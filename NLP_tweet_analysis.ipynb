{
  "nbformat": 4,
  "nbformat_minor": 0,
  "metadata": {
    "colab": {
      "provenance": [],
      "authorship_tag": "ABX9TyPI+G1NAtimyLShmnrnJM6Y",
      "include_colab_link": true
    },
    "kernelspec": {
      "name": "python3",
      "display_name": "Python 3"
    },
    "language_info": {
      "name": "python"
    }
  },
  "cells": [
    {
      "cell_type": "markdown",
      "metadata": {
        "id": "view-in-github",
        "colab_type": "text"
      },
      "source": [
        "<a href=\"https://colab.research.google.com/github/lmarieta/disaster_tweet/blob/main/NLP_tweet_analysis.ipynb\" target=\"_parent\"><img src=\"https://colab.research.google.com/assets/colab-badge.svg\" alt=\"Open In Colab\"/></a>"
      ]
    },
    {
      "cell_type": "code",
      "execution_count": 252,
      "metadata": {
        "id": "4qnTjn2QEhEt"
      },
      "outputs": [],
      "source": [
        "import numpy as np # linear algebra\n",
        "import pandas as pd # data processing, CSV file I/O (e.g. pd.read_csv)\n",
        "from sklearn import feature_extraction, linear_model, model_selection, preprocessing\n",
        "from sklearn.feature_extraction.text import TfidfVectorizer\n",
        "from sklearn.model_selection import train_test_split\n",
        "from sklearn.ensemble import RandomForestClassifier\n",
        "from sklearn.metrics import accuracy_score, classification_report\n",
        "import xgboost as xgb\n",
        "import tensorflow as tf\n",
        "from tensorflow.keras.models import Model\n",
        "from tensorflow.keras.layers import Input, Dense, Concatenate, LSTM, Embedding, Flatten, Dropout\n",
        "from keras.regularizers import l2\n",
        "from tensorflow.keras.preprocessing.text import Tokenizer\n",
        "from tensorflow.keras.preprocessing.sequence import pad_sequences\n",
        "import io\n",
        "from scipy.sparse import hstack\n",
        "from sklearn.model_selection import cross_val_predict\n",
        "from sklearn.metrics import f1_score\n",
        "from keras.callbacks import LearningRateScheduler\n",
        "from keras.optimizers import Adam"
      ]
    },
    {
      "cell_type": "code",
      "source": [
        "from google.colab import drive\n",
        "drive.mount('/content/gdrive')"
      ],
      "metadata": {
        "colab": {
          "base_uri": "https://localhost:8080/"
        },
        "id": "W9AXZSiuSpjg",
        "outputId": "94135abd-b81c-4e5a-9d3d-5c0dcd5bc60f"
      },
      "execution_count": 145,
      "outputs": [
        {
          "output_type": "stream",
          "name": "stdout",
          "text": [
            "Drive already mounted at /content/gdrive; to attempt to forcibly remount, call drive.mount(\"/content/gdrive\", force_remount=True).\n"
          ]
        }
      ]
    },
    {
      "cell_type": "code",
      "source": [
        "train_df = pd.read_csv(\"/content/train.csv\")\n",
        "test_df = pd.read_csv(\"/content/test.csv\")"
      ],
      "metadata": {
        "id": "YX-YKvraFSM1"
      },
      "execution_count": 146,
      "outputs": []
    },
    {
      "cell_type": "code",
      "source": [
        "train_df[train_df[\"target\"] == 0][\"text\"].values[1]"
      ],
      "metadata": {
        "colab": {
          "base_uri": "https://localhost:8080/",
          "height": 35
        },
        "id": "C1_Erhu8FkMW",
        "outputId": "23dc3ed8-88b9-4b2b-e714-bdf062de1fe4"
      },
      "execution_count": 147,
      "outputs": [
        {
          "output_type": "execute_result",
          "data": {
            "text/plain": [
              "'I love fruits'"
            ],
            "application/vnd.google.colaboratory.intrinsic+json": {
              "type": "string"
            }
          },
          "metadata": {},
          "execution_count": 147
        }
      ]
    },
    {
      "cell_type": "code",
      "source": [
        "train_df[train_df[\"target\"] == 1][\"text\"].values[1]"
      ],
      "metadata": {
        "colab": {
          "base_uri": "https://localhost:8080/",
          "height": 35
        },
        "id": "oh8BPwLdFsDD",
        "outputId": "21d515e9-647e-4748-a7ec-118775b842e6"
      },
      "execution_count": 148,
      "outputs": [
        {
          "output_type": "execute_result",
          "data": {
            "text/plain": [
              "'Forest fire near La Ronge Sask. Canada'"
            ],
            "application/vnd.google.colaboratory.intrinsic+json": {
              "type": "string"
            }
          },
          "metadata": {},
          "execution_count": 148
        }
      ]
    },
    {
      "cell_type": "code",
      "source": [
        "count_vectorizer = feature_extraction.text.CountVectorizer()\n",
        "\n",
        "## let's get counts for the first 5 tweets in the data\n",
        "example_train_vectors = count_vectorizer.fit_transform(train_df[\"text\"][0:5])"
      ],
      "metadata": {
        "id": "X01iYYEOGCtL"
      },
      "execution_count": 149,
      "outputs": []
    },
    {
      "cell_type": "code",
      "source": [
        "## we use .todense() here because these vectors are \"sparse\" (only non-zero elements are kept to save space)\n",
        "print(example_train_vectors[0].todense().shape)\n",
        "print(example_train_vectors[0].todense())"
      ],
      "metadata": {
        "colab": {
          "base_uri": "https://localhost:8080/"
        },
        "id": "LIWJ5aO4GNHX",
        "outputId": "431976ea-e859-4430-ce69-d27f6f8ec77e"
      },
      "execution_count": 150,
      "outputs": [
        {
          "output_type": "stream",
          "name": "stdout",
          "text": [
            "(1, 54)\n",
            "[[0 0 0 1 1 1 0 0 0 0 0 0 1 1 0 0 0 0 1 0 0 0 0 0 0 1 0 0 0 1 0 0 0 0 1 0\n",
            "  0 0 0 1 0 0 0 0 0 0 0 0 0 1 1 0 1 0]]\n"
          ]
        }
      ]
    },
    {
      "cell_type": "code",
      "source": [
        "X = train_df[\"text\"]\n",
        "y = train_df[\"target\"]\n",
        "X_submission = test_df['text']"
      ],
      "metadata": {
        "id": "2_q6odtNKQj9"
      },
      "execution_count": 151,
      "outputs": []
    },
    {
      "cell_type": "code",
      "source": [
        "# Convert binary vectors to TF-IDF representation\n",
        "tfidf_vectorizer = TfidfVectorizer(binary=True, max_features=5000)  # Adjust max_features as needed\n",
        "X_tfidf = tfidf_vectorizer.fit_transform(X)\n",
        "X_submission_tfidf = tfidf_vectorizer.fit_transform(X_submission)"
      ],
      "metadata": {
        "id": "-JVIOnC8KbxI"
      },
      "execution_count": 177,
      "outputs": []
    },
    {
      "cell_type": "code",
      "source": [
        "X_train, X_test, y_train, y_test = train_test_split(\n",
        "    X, y, test_size=0.2, random_state=42\n",
        ")"
      ],
      "metadata": {
        "id": "gPTB5q2UX7MY"
      },
      "execution_count": 178,
      "outputs": []
    },
    {
      "cell_type": "code",
      "source": [
        "# Tokenize the text\n",
        "tokenizer = Tokenizer()\n",
        "tokenizer.fit_on_texts(X)\n",
        "\n",
        "# Tokenize and pad sequences for training data\n",
        "sequences_train = tokenizer.texts_to_sequences(X_train)\n",
        "X_train_padded = pad_sequences(sequences, maxlen=max_sequence_length, padding='post', truncating='post')\n",
        "sequences_submission = tokenizer.texts_to_sequences(X_submission)\n",
        "X_submission_padded = pad_sequences(sequences_submission, maxlen=max_sequence_length, padding='post', truncating='post')\n",
        "\n",
        "# Load pre-trained GloVe word embeddings\n",
        "glove_path = '/content/glove.6B.50d.txt' # '/content/gdrive/MyDrive/glove.6B.50d.txt' # Replace with the path to your downloaded GloVe file\n",
        "embedding_dim = 50  # Should match the dimension of the GloVe file you downloaded\n",
        "\n",
        "embedding_index = {}\n",
        "with open(glove_path, 'r', encoding='utf-8') as file:\n",
        "    for line in file:\n",
        "        values = line.split()\n",
        "        word = values[0]\n",
        "        coefs = np.asarray(values[1:], dtype='float32')\n",
        "        embedding_index[word] = coefs\n",
        "\n",
        "# Create an embedding matrix\n",
        "vocab_size = len(tokenizer.word_index) + 1\n",
        "embedding_matrix = np.zeros((vocab_size, embedding_dim))\n",
        "for word, index in tokenizer.word_index.items():\n",
        "    embedding_vector = embedding_index.get(word)\n",
        "    if embedding_vector is not None:\n",
        "        embedding_matrix[index] = embedding_vector\n",
        "\n",
        "# Create the model input\n",
        "X_word_embeddings = embedding_matrix[X_train_padded]\n",
        "X_submission_word_embeddings = embedding_matrix[X_submission_padded]"
      ],
      "metadata": {
        "id": "Dub3OjAhQxL5"
      },
      "execution_count": 190,
      "outputs": []
    },
    {
      "cell_type": "code",
      "source": [
        "X_train_tfidf, X_test_tfidf, X_train_word_embeddings, X_test_word_embeddings, y_train, y_test = train_test_split(\n",
        "    X_tfidf, X_word_embeddings, y, test_size=0.2, random_state=42\n",
        ")"
      ],
      "metadata": {
        "id": "-K1g_PjZV0wG"
      },
      "execution_count": 191,
      "outputs": []
    },
    {
      "cell_type": "code",
      "source": [
        "# Create the model input for word embeddings\n",
        "word_embeddings_input = Input(shape=(max_sequence_length, embedding_dim))  # Fix the input shape\n",
        "word_embeddings_output = LSTM(64)(word_embeddings_input)\n",
        "word_embeddings_model = Model(inputs=word_embeddings_input, outputs=word_embeddings_output)\n"
      ],
      "metadata": {
        "id": "63KWTBTYPz-i"
      },
      "execution_count": 192,
      "outputs": []
    },
    {
      "cell_type": "code",
      "source": [
        "# Reshape the word embeddings to match the number of features in TF-IDF\n",
        "X_train_word_embeddings_flat = X_train_word_embeddings.reshape((X_train_word_embeddings.shape[0], -1))\n",
        "X_test_word_embeddings_flat = X_test_word_embeddings.reshape((X_test_word_embeddings.shape[0], -1))\n",
        "X_submission_embeddings_flat = X_submission_word_embeddings.reshape((X_submission_word_embeddings.shape[0], -1))"
      ],
      "metadata": {
        "id": "cev8B7dCdf7-"
      },
      "execution_count": 199,
      "outputs": []
    },
    {
      "cell_type": "code",
      "source": [
        "X_train_tfidf_dense = X_train_tfidf.toarray()\n",
        "X_test_tfidf_dense = X_test_tfidf.toarray()\n",
        "X_submission_tfidf_dense = X_submission_tfidf.toarray()\n",
        "# Concatenate the representations\n",
        "X_train_combined = np.concatenate((X_train_tfidf_dense, X_train_word_embeddings_flat), axis=1)\n",
        "X_test_combined = np.concatenate((X_test_tfidf_dense, X_test_word_embeddings_flat), axis=1)\n",
        "X_submission_combined = np.concatenate((X_submission_tfidf_dense, X_submission_embeddings_flat), axis=1)\n",
        "# Build a simple model\n",
        "model_input = Input(shape=(X_train_combined.shape[1],))\n",
        "dense_layer = Dense(128, activation='relu', kernel_regularizer=l2(0.005))(model_input)\n",
        "dropout_layer = Dropout(0.6)(dense_layer)\n",
        "dense_layer = Dense(128, activation='relu', kernel_regularizer=l2(0.005))(dropout_layer)\n",
        "dropout_layer = Dropout(0.6)(dense_layer)\n",
        "dense_layer = Dense(128, activation='relu', kernel_regularizer=l2(0.005))(dropout_layer)\n",
        "dropout_layer = Dropout(0.6)(dense_layer)\n",
        "output_layer = Dense(1, activation='sigmoid')(dropout_layer)\n",
        "model = Model(inputs=model_input, outputs=output_layer)"
      ],
      "metadata": {
        "id": "gsc7yA7TQN5A"
      },
      "execution_count": 289,
      "outputs": []
    },
    {
      "cell_type": "code",
      "source": [
        "def linear_decay(epoch):\n",
        "    initial_learning_rate = 0.02  # Adjust this based on your preference\n",
        "    decay = 0.002  # Adjust the decay rate based on your preference\n",
        "    new_learning_rate = initial_learning_rate - epoch * decay\n",
        "    return max(new_learning_rate, 0.0001)"
      ],
      "metadata": {
        "id": "WV3NCxl3sOEf"
      },
      "execution_count": 290,
      "outputs": []
    },
    {
      "cell_type": "code",
      "source": [
        "initial_learning_rate = 0.1\n",
        "final_lr = 0.001\n",
        "optimizer = Adam(learning_rate=initial_learning_rate)\n",
        "\n",
        "# Define the learning rate scheduler\n",
        "lr_scheduler = LearningRateScheduler(linear_decay)\n",
        "\n",
        "# Compile and train the model\n",
        "model.compile(optimizer=optimizer, loss='binary_crossentropy', metrics=['accuracy'])\n",
        "model.fit(X_train_combined, y_train, epochs=20, batch_size=32, validation_split=0.2, callbacks=[lr_scheduler])\n"
      ],
      "metadata": {
        "id": "IKCNd4YcQUc4",
        "colab": {
          "base_uri": "https://localhost:8080/"
        },
        "outputId": "b77304e3-373b-40d4-f360-f7db2c013f25"
      },
      "execution_count": null,
      "outputs": [
        {
          "output_type": "stream",
          "name": "stdout",
          "text": [
            "Epoch 1/20\n",
            "153/153 [==============================] - 4s 19ms/step - loss: 3.6520 - accuracy: 0.5630 - val_loss: 0.7965 - val_accuracy: 0.5616 - lr: 0.0400\n",
            "Epoch 2/20\n",
            "153/153 [==============================] - 2s 14ms/step - loss: 0.7192 - accuracy: 0.5714 - val_loss: 0.6943 - val_accuracy: 0.5616 - lr: 0.0380\n",
            "Epoch 3/20\n",
            "153/153 [==============================] - 2s 12ms/step - loss: 0.6873 - accuracy: 0.5714 - val_loss: 0.6870 - val_accuracy: 0.5616 - lr: 0.0360\n",
            "Epoch 4/20\n",
            "153/153 [==============================] - 2s 12ms/step - loss: 0.6844 - accuracy: 0.5714 - val_loss: 0.6857 - val_accuracy: 0.5616 - lr: 0.0340\n",
            "Epoch 5/20\n",
            "153/153 [==============================] - 2s 12ms/step - loss: 0.6834 - accuracy: 0.5714 - val_loss: 0.6864 - val_accuracy: 0.5616 - lr: 0.0320\n",
            "Epoch 6/20\n",
            "153/153 [==============================] - 2s 12ms/step - loss: 0.6836 - accuracy: 0.5714 - val_loss: 0.6861 - val_accuracy: 0.5616 - lr: 0.0300\n",
            "Epoch 7/20\n",
            "153/153 [==============================] - 2s 12ms/step - loss: 0.6837 - accuracy: 0.5714 - val_loss: 0.6855 - val_accuracy: 0.5616 - lr: 0.0280\n",
            "Epoch 8/20\n",
            "153/153 [==============================] - 3s 17ms/step - loss: 0.6834 - accuracy: 0.5714 - val_loss: 0.6864 - val_accuracy: 0.5616 - lr: 0.0260\n",
            "Epoch 9/20\n",
            "153/153 [==============================] - 3s 16ms/step - loss: 0.6834 - accuracy: 0.5714 - val_loss: 0.6856 - val_accuracy: 0.5616 - lr: 0.0240\n",
            "Epoch 10/20\n",
            "153/153 [==============================] - 2s 16ms/step - loss: 0.6833 - accuracy: 0.5714 - val_loss: 0.6876 - val_accuracy: 0.5616 - lr: 0.0220\n",
            "Epoch 11/20\n",
            "153/153 [==============================] - 2s 12ms/step - loss: 0.6836 - accuracy: 0.5714 - val_loss: 0.6855 - val_accuracy: 0.5616 - lr: 0.0200\n",
            "Epoch 12/20\n",
            "153/153 [==============================] - 2s 12ms/step - loss: 0.6834 - accuracy: 0.5714 - val_loss: 0.6856 - val_accuracy: 0.5616 - lr: 0.0180\n",
            "Epoch 13/20\n",
            "153/153 [==============================] - 2s 12ms/step - loss: 0.6832 - accuracy: 0.5714 - val_loss: 0.6860 - val_accuracy: 0.5616 - lr: 0.0160\n",
            "Epoch 14/20\n",
            "153/153 [==============================] - 2s 12ms/step - loss: 0.6834 - accuracy: 0.5714 - val_loss: 0.6863 - val_accuracy: 0.5616 - lr: 0.0140\n",
            "Epoch 15/20\n",
            "153/153 [==============================] - 2s 12ms/step - loss: 0.6833 - accuracy: 0.5714 - val_loss: 0.6859 - val_accuracy: 0.5616 - lr: 0.0120\n",
            "Epoch 16/20\n",
            "153/153 [==============================] - 2s 15ms/step - loss: 0.6832 - accuracy: 0.5714 - val_loss: 0.6860 - val_accuracy: 0.5616 - lr: 0.0100\n",
            "Epoch 17/20\n",
            "153/153 [==============================] - 3s 18ms/step - loss: 0.6833 - accuracy: 0.5714 - val_loss: 0.6860 - val_accuracy: 0.5616 - lr: 0.0080\n",
            "Epoch 18/20\n",
            "153/153 [==============================] - 3s 17ms/step - loss: 0.6832 - accuracy: 0.5714 - val_loss: 0.6860 - val_accuracy: 0.5616 - lr: 0.0060\n",
            "Epoch 19/20\n",
            "153/153 [==============================] - 2s 12ms/step - loss: 0.6830 - accuracy: 0.5714 - val_loss: 0.6857 - val_accuracy: 0.5616 - lr: 0.0040\n",
            "Epoch 20/20\n",
            "153/153 [==============================] - 2s 12ms/step - loss: 0.6830 - accuracy: 0.5714 - val_loss: 0.6857 - val_accuracy: 0.5616 - lr: 0.0020\n"
          ]
        }
      ]
    },
    {
      "cell_type": "code",
      "source": [
        "# Get predictions on the training data\n",
        "y_pred_test = model.predict(X_test_combined)\n",
        "\n",
        "# Convert predictions to binary (0 or 1) based on a threshold (e.g., 0.5)\n",
        "threshold = 0.5\n",
        "y_pred_binary = (y_pred_test > threshold).astype(int)\n",
        "\n",
        "# Compute the F1 score\n",
        "f1 = f1_score(y_test, y_pred_binary)\n",
        "print(\"F1 Score:\", f1)"
      ],
      "metadata": {
        "id": "8oEq0wQbGs3M"
      },
      "execution_count": null,
      "outputs": []
    },
    {
      "cell_type": "code",
      "source": [
        "sample_submission = pd.read_csv(\"/content/sample_submission.csv\")"
      ],
      "metadata": {
        "id": "-FN1vt9OG9yC"
      },
      "execution_count": 203,
      "outputs": []
    },
    {
      "cell_type": "code",
      "source": [
        "# Get predictions on the training data\n",
        "y_pred_submission = model.predict(X_submission_combined)\n",
        "\n",
        "# Convert predictions to binary (0 or 1) based on a threshold (e.g., 0.5)\n",
        "threshold = 0.5\n",
        "y_pred_binary = (y_pred_submission > threshold).astype(int)"
      ],
      "metadata": {
        "colab": {
          "base_uri": "https://localhost:8080/"
        },
        "id": "VCMVH2eSiLUn",
        "outputId": "b35a598c-3c41-4f57-84ac-e1d313c17e87"
      },
      "execution_count": 204,
      "outputs": [
        {
          "output_type": "stream",
          "name": "stdout",
          "text": [
            "102/102 [==============================] - 0s 2ms/step\n"
          ]
        }
      ]
    },
    {
      "cell_type": "code",
      "source": [
        "print(X_submission_padded.shape)"
      ],
      "metadata": {
        "colab": {
          "base_uri": "https://localhost:8080/"
        },
        "id": "x7lRMtvWlEkR",
        "outputId": "c62daba2-0df5-4c19-a49d-cc4683a879b9"
      },
      "execution_count": 205,
      "outputs": [
        {
          "output_type": "stream",
          "name": "stdout",
          "text": [
            "(3263, 20)\n"
          ]
        }
      ]
    },
    {
      "cell_type": "code",
      "source": [
        "sample_submission[\"target\"] = y_pred_binary"
      ],
      "metadata": {
        "id": "_HC5545cHCSt"
      },
      "execution_count": 208,
      "outputs": []
    },
    {
      "cell_type": "code",
      "source": [
        "sample_submission.head()"
      ],
      "metadata": {
        "colab": {
          "base_uri": "https://localhost:8080/",
          "height": 206
        },
        "id": "skWP77eDHESd",
        "outputId": "4311c462-d98f-464a-9a2e-b1f324ea4214"
      },
      "execution_count": 207,
      "outputs": [
        {
          "output_type": "execute_result",
          "data": {
            "text/plain": [
              "   id  target\n",
              "0   0       1\n",
              "1   2       1\n",
              "2   3       1\n",
              "3   9       1\n",
              "4  11       1"
            ],
            "text/html": [
              "\n",
              "  <div id=\"df-9a0ecf58-5c5f-4f89-9156-a870ad8657db\" class=\"colab-df-container\">\n",
              "    <div>\n",
              "<style scoped>\n",
              "    .dataframe tbody tr th:only-of-type {\n",
              "        vertical-align: middle;\n",
              "    }\n",
              "\n",
              "    .dataframe tbody tr th {\n",
              "        vertical-align: top;\n",
              "    }\n",
              "\n",
              "    .dataframe thead th {\n",
              "        text-align: right;\n",
              "    }\n",
              "</style>\n",
              "<table border=\"1\" class=\"dataframe\">\n",
              "  <thead>\n",
              "    <tr style=\"text-align: right;\">\n",
              "      <th></th>\n",
              "      <th>id</th>\n",
              "      <th>target</th>\n",
              "    </tr>\n",
              "  </thead>\n",
              "  <tbody>\n",
              "    <tr>\n",
              "      <th>0</th>\n",
              "      <td>0</td>\n",
              "      <td>1</td>\n",
              "    </tr>\n",
              "    <tr>\n",
              "      <th>1</th>\n",
              "      <td>2</td>\n",
              "      <td>1</td>\n",
              "    </tr>\n",
              "    <tr>\n",
              "      <th>2</th>\n",
              "      <td>3</td>\n",
              "      <td>1</td>\n",
              "    </tr>\n",
              "    <tr>\n",
              "      <th>3</th>\n",
              "      <td>9</td>\n",
              "      <td>1</td>\n",
              "    </tr>\n",
              "    <tr>\n",
              "      <th>4</th>\n",
              "      <td>11</td>\n",
              "      <td>1</td>\n",
              "    </tr>\n",
              "  </tbody>\n",
              "</table>\n",
              "</div>\n",
              "    <div class=\"colab-df-buttons\">\n",
              "\n",
              "  <div class=\"colab-df-container\">\n",
              "    <button class=\"colab-df-convert\" onclick=\"convertToInteractive('df-9a0ecf58-5c5f-4f89-9156-a870ad8657db')\"\n",
              "            title=\"Convert this dataframe to an interactive table.\"\n",
              "            style=\"display:none;\">\n",
              "\n",
              "  <svg xmlns=\"http://www.w3.org/2000/svg\" height=\"24px\" viewBox=\"0 -960 960 960\">\n",
              "    <path d=\"M120-120v-720h720v720H120Zm60-500h600v-160H180v160Zm220 220h160v-160H400v160Zm0 220h160v-160H400v160ZM180-400h160v-160H180v160Zm440 0h160v-160H620v160ZM180-180h160v-160H180v160Zm440 0h160v-160H620v160Z\"/>\n",
              "  </svg>\n",
              "    </button>\n",
              "\n",
              "  <style>\n",
              "    .colab-df-container {\n",
              "      display:flex;\n",
              "      gap: 12px;\n",
              "    }\n",
              "\n",
              "    .colab-df-convert {\n",
              "      background-color: #E8F0FE;\n",
              "      border: none;\n",
              "      border-radius: 50%;\n",
              "      cursor: pointer;\n",
              "      display: none;\n",
              "      fill: #1967D2;\n",
              "      height: 32px;\n",
              "      padding: 0 0 0 0;\n",
              "      width: 32px;\n",
              "    }\n",
              "\n",
              "    .colab-df-convert:hover {\n",
              "      background-color: #E2EBFA;\n",
              "      box-shadow: 0px 1px 2px rgba(60, 64, 67, 0.3), 0px 1px 3px 1px rgba(60, 64, 67, 0.15);\n",
              "      fill: #174EA6;\n",
              "    }\n",
              "\n",
              "    .colab-df-buttons div {\n",
              "      margin-bottom: 4px;\n",
              "    }\n",
              "\n",
              "    [theme=dark] .colab-df-convert {\n",
              "      background-color: #3B4455;\n",
              "      fill: #D2E3FC;\n",
              "    }\n",
              "\n",
              "    [theme=dark] .colab-df-convert:hover {\n",
              "      background-color: #434B5C;\n",
              "      box-shadow: 0px 1px 3px 1px rgba(0, 0, 0, 0.15);\n",
              "      filter: drop-shadow(0px 1px 2px rgba(0, 0, 0, 0.3));\n",
              "      fill: #FFFFFF;\n",
              "    }\n",
              "  </style>\n",
              "\n",
              "    <script>\n",
              "      const buttonEl =\n",
              "        document.querySelector('#df-9a0ecf58-5c5f-4f89-9156-a870ad8657db button.colab-df-convert');\n",
              "      buttonEl.style.display =\n",
              "        google.colab.kernel.accessAllowed ? 'block' : 'none';\n",
              "\n",
              "      async function convertToInteractive(key) {\n",
              "        const element = document.querySelector('#df-9a0ecf58-5c5f-4f89-9156-a870ad8657db');\n",
              "        const dataTable =\n",
              "          await google.colab.kernel.invokeFunction('convertToInteractive',\n",
              "                                                    [key], {});\n",
              "        if (!dataTable) return;\n",
              "\n",
              "        const docLinkHtml = 'Like what you see? Visit the ' +\n",
              "          '<a target=\"_blank\" href=https://colab.research.google.com/notebooks/data_table.ipynb>data table notebook</a>'\n",
              "          + ' to learn more about interactive tables.';\n",
              "        element.innerHTML = '';\n",
              "        dataTable['output_type'] = 'display_data';\n",
              "        await google.colab.output.renderOutput(dataTable, element);\n",
              "        const docLink = document.createElement('div');\n",
              "        docLink.innerHTML = docLinkHtml;\n",
              "        element.appendChild(docLink);\n",
              "      }\n",
              "    </script>\n",
              "  </div>\n",
              "\n",
              "\n",
              "<div id=\"df-79047e23-38eb-48d6-8cb4-f9105d4dd6d7\">\n",
              "  <button class=\"colab-df-quickchart\" onclick=\"quickchart('df-79047e23-38eb-48d6-8cb4-f9105d4dd6d7')\"\n",
              "            title=\"Suggest charts\"\n",
              "            style=\"display:none;\">\n",
              "\n",
              "<svg xmlns=\"http://www.w3.org/2000/svg\" height=\"24px\"viewBox=\"0 0 24 24\"\n",
              "     width=\"24px\">\n",
              "    <g>\n",
              "        <path d=\"M19 3H5c-1.1 0-2 .9-2 2v14c0 1.1.9 2 2 2h14c1.1 0 2-.9 2-2V5c0-1.1-.9-2-2-2zM9 17H7v-7h2v7zm4 0h-2V7h2v10zm4 0h-2v-4h2v4z\"/>\n",
              "    </g>\n",
              "</svg>\n",
              "  </button>\n",
              "\n",
              "<style>\n",
              "  .colab-df-quickchart {\n",
              "      --bg-color: #E8F0FE;\n",
              "      --fill-color: #1967D2;\n",
              "      --hover-bg-color: #E2EBFA;\n",
              "      --hover-fill-color: #174EA6;\n",
              "      --disabled-fill-color: #AAA;\n",
              "      --disabled-bg-color: #DDD;\n",
              "  }\n",
              "\n",
              "  [theme=dark] .colab-df-quickchart {\n",
              "      --bg-color: #3B4455;\n",
              "      --fill-color: #D2E3FC;\n",
              "      --hover-bg-color: #434B5C;\n",
              "      --hover-fill-color: #FFFFFF;\n",
              "      --disabled-bg-color: #3B4455;\n",
              "      --disabled-fill-color: #666;\n",
              "  }\n",
              "\n",
              "  .colab-df-quickchart {\n",
              "    background-color: var(--bg-color);\n",
              "    border: none;\n",
              "    border-radius: 50%;\n",
              "    cursor: pointer;\n",
              "    display: none;\n",
              "    fill: var(--fill-color);\n",
              "    height: 32px;\n",
              "    padding: 0;\n",
              "    width: 32px;\n",
              "  }\n",
              "\n",
              "  .colab-df-quickchart:hover {\n",
              "    background-color: var(--hover-bg-color);\n",
              "    box-shadow: 0 1px 2px rgba(60, 64, 67, 0.3), 0 1px 3px 1px rgba(60, 64, 67, 0.15);\n",
              "    fill: var(--button-hover-fill-color);\n",
              "  }\n",
              "\n",
              "  .colab-df-quickchart-complete:disabled,\n",
              "  .colab-df-quickchart-complete:disabled:hover {\n",
              "    background-color: var(--disabled-bg-color);\n",
              "    fill: var(--disabled-fill-color);\n",
              "    box-shadow: none;\n",
              "  }\n",
              "\n",
              "  .colab-df-spinner {\n",
              "    border: 2px solid var(--fill-color);\n",
              "    border-color: transparent;\n",
              "    border-bottom-color: var(--fill-color);\n",
              "    animation:\n",
              "      spin 1s steps(1) infinite;\n",
              "  }\n",
              "\n",
              "  @keyframes spin {\n",
              "    0% {\n",
              "      border-color: transparent;\n",
              "      border-bottom-color: var(--fill-color);\n",
              "      border-left-color: var(--fill-color);\n",
              "    }\n",
              "    20% {\n",
              "      border-color: transparent;\n",
              "      border-left-color: var(--fill-color);\n",
              "      border-top-color: var(--fill-color);\n",
              "    }\n",
              "    30% {\n",
              "      border-color: transparent;\n",
              "      border-left-color: var(--fill-color);\n",
              "      border-top-color: var(--fill-color);\n",
              "      border-right-color: var(--fill-color);\n",
              "    }\n",
              "    40% {\n",
              "      border-color: transparent;\n",
              "      border-right-color: var(--fill-color);\n",
              "      border-top-color: var(--fill-color);\n",
              "    }\n",
              "    60% {\n",
              "      border-color: transparent;\n",
              "      border-right-color: var(--fill-color);\n",
              "    }\n",
              "    80% {\n",
              "      border-color: transparent;\n",
              "      border-right-color: var(--fill-color);\n",
              "      border-bottom-color: var(--fill-color);\n",
              "    }\n",
              "    90% {\n",
              "      border-color: transparent;\n",
              "      border-bottom-color: var(--fill-color);\n",
              "    }\n",
              "  }\n",
              "</style>\n",
              "\n",
              "  <script>\n",
              "    async function quickchart(key) {\n",
              "      const quickchartButtonEl =\n",
              "        document.querySelector('#' + key + ' button');\n",
              "      quickchartButtonEl.disabled = true;  // To prevent multiple clicks.\n",
              "      quickchartButtonEl.classList.add('colab-df-spinner');\n",
              "      try {\n",
              "        const charts = await google.colab.kernel.invokeFunction(\n",
              "            'suggestCharts', [key], {});\n",
              "      } catch (error) {\n",
              "        console.error('Error during call to suggestCharts:', error);\n",
              "      }\n",
              "      quickchartButtonEl.classList.remove('colab-df-spinner');\n",
              "      quickchartButtonEl.classList.add('colab-df-quickchart-complete');\n",
              "    }\n",
              "    (() => {\n",
              "      let quickchartButtonEl =\n",
              "        document.querySelector('#df-79047e23-38eb-48d6-8cb4-f9105d4dd6d7 button');\n",
              "      quickchartButtonEl.style.display =\n",
              "        google.colab.kernel.accessAllowed ? 'block' : 'none';\n",
              "    })();\n",
              "  </script>\n",
              "</div>\n",
              "    </div>\n",
              "  </div>\n"
            ]
          },
          "metadata": {},
          "execution_count": 207
        }
      ]
    },
    {
      "cell_type": "code",
      "source": [
        "sample_submission.to_csv(\"/content/submission.csv\", index=False)"
      ],
      "metadata": {
        "id": "6I5Q2cRNHGLv"
      },
      "execution_count": 209,
      "outputs": []
    },
    {
      "cell_type": "code",
      "source": [],
      "metadata": {
        "id": "S-myot1JHLIA"
      },
      "execution_count": null,
      "outputs": []
    }
  ]
}